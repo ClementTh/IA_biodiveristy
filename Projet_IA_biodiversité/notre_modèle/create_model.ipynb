{
 "cells": [
  {
   "cell_type": "code",
   "execution_count": 1,
   "metadata": {},
   "outputs": [
    {
     "name": "stderr",
     "output_type": "stream",
     "text": [
      "2023-04-17 19:19:22.076127: I tensorflow/core/platform/cpu_feature_guard.cc:193] This TensorFlow binary is optimized with oneAPI Deep Neural Network Library (oneDNN) to use the following CPU instructions in performance-critical operations:  AVX2 FMA\n",
      "To enable them in other operations, rebuild TensorFlow with the appropriate compiler flags.\n",
      "2023-04-17 19:19:22.806615: W tensorflow/compiler/xla/stream_executor/platform/default/dso_loader.cc:64] Could not load dynamic library 'libnvinfer.so.7'; dlerror: libnvinfer.so.7: cannot open shared object file: No such file or directory; LD_LIBRARY_PATH: /usr/local/cuda/lib:/raid/home/labuseraber/environment/testEnvironment/.conda9/lib/:/lib\n",
      "2023-04-17 19:19:22.806717: W tensorflow/compiler/xla/stream_executor/platform/default/dso_loader.cc:64] Could not load dynamic library 'libnvinfer_plugin.so.7'; dlerror: libnvinfer_plugin.so.7: cannot open shared object file: No such file or directory; LD_LIBRARY_PATH: /usr/local/cuda/lib:/raid/home/labuseraber/environment/testEnvironment/.conda9/lib/:/lib\n",
      "2023-04-17 19:19:22.806725: W tensorflow/compiler/tf2tensorrt/utils/py_utils.cc:38] TF-TRT Warning: Cannot dlopen some TensorRT libraries. If you would like to use Nvidia GPU with TensorRT, please make sure the missing libraries mentioned above are installed properly.\n"
     ]
    },
    {
     "name": "stdout",
     "output_type": "stream",
     "text": [
      "Found 45288 files belonging to 151 classes.\n"
     ]
    },
    {
     "name": "stderr",
     "output_type": "stream",
     "text": [
      "2023-04-17 19:19:27.563514: I tensorflow/core/platform/cpu_feature_guard.cc:193] This TensorFlow binary is optimized with oneAPI Deep Neural Network Library (oneDNN) to use the following CPU instructions in performance-critical operations:  AVX2 FMA\n",
      "To enable them in other operations, rebuild TensorFlow with the appropriate compiler flags.\n",
      "2023-04-17 19:19:29.273093: I tensorflow/core/common_runtime/gpu/gpu_device.cc:1613] Created device /job:localhost/replica:0/task:0/device:GPU:0 with 30969 MB memory:  -> device: 0, name: Tesla V100-SXM2-32GB, pci bus id: 0000:06:00.0, compute capability: 7.0\n",
      "2023-04-17 19:19:29.275505: I tensorflow/core/common_runtime/gpu/gpu_device.cc:1613] Created device /job:localhost/replica:0/task:0/device:GPU:1 with 30969 MB memory:  -> device: 1, name: Tesla V100-SXM2-32GB, pci bus id: 0000:07:00.0, compute capability: 7.0\n"
     ]
    },
    {
     "name": "stdout",
     "output_type": "stream",
     "text": [
      "Found 31112 files belonging to 1081 classes.\n",
      "WARNING:tensorflow:From /raid/home/labuseraber/environment/testEnvironment/.conda9/lib/python3.9/site-packages/tensorflow/python/autograph/pyct/static_analysis/liveness.py:83: Analyzer.lamba_check (from tensorflow.python.autograph.pyct.static_analysis.liveness) is deprecated and will be removed after 2023-09-23.\n",
      "Instructions for updating:\n",
      "Lambda fuctions will be no more assumed to be used in the statement where they are used, or at least in the same block. https://github.com/tensorflow/tensorflow/issues/56089\n",
      "\n",
      "np.min(first_image), np.max(first_image) 0.0013921937 1.0\n",
      "Model: \"sequential\"\n",
      "_________________________________________________________________\n",
      " Layer (type)                Output Shape              Param #   \n",
      "=================================================================\n",
      " rescaling_1 (Rescaling)     (None, 360, 360, 3)       0         \n",
      "                                                                 \n",
      " conv2d (Conv2D)             (None, 360, 360, 16)      448       \n",
      "                                                                 \n",
      " max_pooling2d (MaxPooling2D  (None, 180, 180, 16)     0         \n",
      " )                                                               \n",
      "                                                                 \n",
      " conv2d_1 (Conv2D)           (None, 180, 180, 32)      4640      \n",
      "                                                                 \n",
      " max_pooling2d_1 (MaxPooling  (None, 90, 90, 32)       0         \n",
      " 2D)                                                             \n",
      "                                                                 \n",
      " conv2d_2 (Conv2D)           (None, 90, 90, 64)        18496     \n",
      "                                                                 \n",
      " max_pooling2d_2 (MaxPooling  (None, 45, 45, 64)       0         \n",
      " 2D)                                                             \n",
      "                                                                 \n",
      " flatten (Flatten)           (None, 129600)            0         \n",
      "                                                                 \n",
      " dense (Dense)               (None, 128)               16588928  \n",
      "                                                                 \n",
      " dense_1 (Dense)             (None, 151)               19479     \n",
      "                                                                 \n",
      "=================================================================\n",
      "Total params: 16,631,991\n",
      "Trainable params: 16,631,991\n",
      "Non-trainable params: 0\n",
      "_________________________________________________________________\n",
      "Epoch 1/10\n"
     ]
    },
    {
     "name": "stderr",
     "output_type": "stream",
     "text": [
      "2023-04-17 19:19:35.295564: I tensorflow/compiler/xla/stream_executor/cuda/cuda_dnn.cc:428] Loaded cuDNN version 8100\n",
      "2023-04-17 19:19:36.394410: I tensorflow/compiler/xla/service/service.cc:173] XLA service 0x7f5ea2c54ab0 initialized for platform CUDA (this does not guarantee that XLA will be used). Devices:\n",
      "2023-04-17 19:19:36.394442: I tensorflow/compiler/xla/service/service.cc:181]   StreamExecutor device (0): Tesla V100-SXM2-32GB, Compute Capability 7.0\n",
      "2023-04-17 19:19:36.394454: I tensorflow/compiler/xla/service/service.cc:181]   StreamExecutor device (1): Tesla V100-SXM2-32GB, Compute Capability 7.0\n",
      "2023-04-17 19:19:36.399730: I tensorflow/compiler/mlir/tensorflow/utils/dump_mlir_util.cc:268] disabling MLIR crash reproducer, set env var `MLIR_CRASH_REPRODUCER_DIRECTORY` to enable.\n",
      "2023-04-17 19:19:36.558255: I tensorflow/compiler/jit/xla_compilation_cache.cc:477] Compiled cluster using XLA!  This line is logged at most once for the lifetime of the process.\n"
     ]
    },
    {
     "name": "stdout",
     "output_type": "stream",
     "text": [
      "2831/2831 [==============================] - 93s 31ms/step - loss: 2.4140 - accuracy: 0.3944 - val_loss: nan - val_accuracy: 0.0010\n",
      "Epoch 2/10\n",
      "2831/2831 [==============================] - 88s 31ms/step - loss: 1.5175 - accuracy: 0.6024 - val_loss: nan - val_accuracy: 0.0012\n",
      "Epoch 3/10\n",
      "2831/2831 [==============================] - 89s 31ms/step - loss: 0.6911 - accuracy: 0.8081 - val_loss: nan - val_accuracy: 0.0015\n",
      "Epoch 4/10\n",
      "2831/2831 [==============================] - 88s 31ms/step - loss: 0.2707 - accuracy: 0.9230 - val_loss: nan - val_accuracy: 0.0012\n",
      "Epoch 5/10\n",
      "2831/2831 [==============================] - 89s 31ms/step - loss: 0.1615 - accuracy: 0.9525 - val_loss: nan - val_accuracy: 0.0012\n",
      "Epoch 6/10\n",
      "2831/2831 [==============================] - 89s 31ms/step - loss: 0.1305 - accuracy: 0.9626 - val_loss: nan - val_accuracy: 0.0012\n",
      "Epoch 7/10\n",
      "2831/2831 [==============================] - 88s 31ms/step - loss: 0.1238 - accuracy: 0.9656 - val_loss: nan - val_accuracy: 0.0014\n",
      "Epoch 8/10\n",
      "2831/2831 [==============================] - 88s 31ms/step - loss: 0.1012 - accuracy: 0.9718 - val_loss: nan - val_accuracy: 0.0016\n",
      "Epoch 9/10\n",
      "2831/2831 [==============================] - 88s 31ms/step - loss: 0.0934 - accuracy: 0.9734 - val_loss: nan - val_accuracy: 0.0016\n",
      "Epoch 10/10\n",
      "2831/2831 [==============================] - 88s 31ms/step - loss: 0.0843 - accuracy: 0.9761 - val_loss: nan - val_accuracy: 0.0016\n"
     ]
    },
    {
     "name": "stderr",
     "output_type": "stream",
     "text": [
      "WARNING:absl:Found untraced functions such as _jit_compiled_convolution_op, _jit_compiled_convolution_op, _jit_compiled_convolution_op while saving (showing 3 of 3). These functions will not be directly callable after loading.\n"
     ]
    },
    {
     "name": "stdout",
     "output_type": "stream",
     "text": [
      "INFO:tensorflow:Assets written to: model_classifiation/assets\n"
     ]
    },
    {
     "name": "stderr",
     "output_type": "stream",
     "text": [
      "INFO:tensorflow:Assets written to: model_classifiation/assets\n"
     ]
    },
    {
     "name": "stdout",
     "output_type": "stream",
     "text": [
      "Found 31118 files belonging to 1081 classes.\n",
      "1945/1945 [==============================] - 26s 13ms/step\n",
      "\n",
      "Accuracy on validation set: 0.001671058551320779\n"
     ]
    }
   ],
   "source": [
    "import numpy as np\n",
    "import tensorflow as tf\n",
    "from tensorflow import keras\n",
    "from tensorflow.keras import layers\n",
    "from tensorflow.keras.models import Sequential\n",
    "\n",
    "#Remplacer les chemins d'accès\n",
    "train = \"plantnet_300K/images/images_train\"    \n",
    "test = \"plantnet_300K/images/images_test\"       \n",
    "val = \"plantnet_300K/images/images_val\"  \n",
    "\n",
    "\n",
    "batch_size = 16\n",
    "img_height = 360\n",
    "img_width = 360\n",
    "epochs=10\n",
    "\n",
    "\n",
    "train_ds = tf.keras.utils.image_dataset_from_directory(\n",
    "  train,\n",
    "  image_size=(img_height, img_width),\n",
    "  batch_size=batch_size)\n",
    "\n",
    "\n",
    "val_ds = tf.keras.utils.image_dataset_from_directory(\n",
    "  test,\n",
    "  image_size=(img_height, img_width),\n",
    "  batch_size=batch_size)\n",
    "\n",
    "class_names = train_ds.class_names\n",
    "\n",
    "\n",
    "#..............................................................\n",
    "\n",
    "normalization_layer = layers.Rescaling(1./255)\n",
    "normalized_ds = train_ds.map(lambda x, y: (normalization_layer(x), y))\n",
    "image_batch, labels_batch = next(iter(normalized_ds))\n",
    "first_image = image_batch[0]\n",
    "print(\"\\nnp.min(first_image), np.max(first_image)\", np.min(first_image), np.max(first_image))\n",
    "\n",
    "#......................................................\n",
    "\n",
    "\n",
    "num_classes = len(class_names)\n",
    "\n",
    "model = Sequential([\n",
    "  layers.Rescaling(1./255, input_shape=(img_height, img_width, 3)),\n",
    "  layers.Conv2D(16, 3, padding='same', activation='relu'),\n",
    "  layers.MaxPooling2D(),\n",
    "  layers.Conv2D(32, 3, padding='same', activation='relu'),\n",
    "  layers.MaxPooling2D(),\n",
    "  layers.Conv2D(64, 3, padding='same', activation='relu'),\n",
    "  layers.MaxPooling2D(),\n",
    "  layers.Flatten(),\n",
    "  layers.Dense(128, activation='relu'),\n",
    "  layers.Dense(num_classes)\n",
    "])\n",
    "\n",
    "model.compile(optimizer='adam',\n",
    "              loss=tf.keras.losses.SparseCategoricalCrossentropy(from_logits=True),\n",
    "              metrics=['accuracy'])\n",
    "\n",
    "model.summary()\n",
    "\n",
    "\n",
    "#.........................................................................;\n",
    "\n",
    "\n",
    "history = model.fit(\n",
    "  train_ds,\n",
    "  validation_data=val_ds,\n",
    "  epochs=epochs\n",
    ")\n",
    "\n",
    "model.save('model_classifiation')\n",
    "#...........................................................;;\n",
    "\n",
    "validation = tf.keras.utils.image_dataset_from_directory(\n",
    "    val,\n",
    "    image_size=(img_height, img_width),\n",
    "    batch_size=batch_size,\n",
    "    label_mode='categorical',\n",
    "    shuffle=False)\n",
    "\n",
    "val_predictions = model.predict(validation)\n",
    "\n",
    "predi = []\n",
    "for i in range(len(val_predictions)):\n",
    "    predi.append(np.argmax(val_predictions[i]))  \n",
    "\n",
    "val_labels = []\n",
    "for images, labels in validation:\n",
    "    batch_labels = tf.argmax(labels, axis=1)\n",
    "    val_labels.extend(batch_labels.numpy())\n",
    "\n",
    "\n",
    "val_accuracy = np.count_nonzero((np.array(predi) - np.array(val_labels)) == 0)/len(predi)\n",
    "print('\\nAccuracy on validation set:', val_accuracy)"
   ]
  }
 ],
 "metadata": {
  "kernelspec": {
   "display_name": "Python 3 (ipykernel)",
   "language": "python",
   "name": "python3"
  },
  "language_info": {
   "codemirror_mode": {
    "name": "ipython",
    "version": 3
   },
   "file_extension": ".py",
   "mimetype": "text/x-python",
   "name": "python",
   "nbconvert_exporter": "python",
   "pygments_lexer": "ipython3",
   "version": "3.9.7"
  }
 },
 "nbformat": 4,
 "nbformat_minor": 2
}
